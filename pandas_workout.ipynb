{
  "nbformat": 4,
  "nbformat_minor": 0,
  "metadata": {
    "colab": {
      "provenance": []
    },
    "kernelspec": {
      "name": "python3",
      "display_name": "Python 3"
    },
    "language_info": {
      "name": "python"
    }
  },
  "cells": [
    {
      "cell_type": "code",
      "execution_count": null,
      "metadata": {
        "id": "QEUVJ9j8IsdP",
        "colab": {
          "base_uri": "https://localhost:8080/",
          "height": 255
        },
        "outputId": "f24dc01d-ea70-461d-be59-322bf746f4e4"
      },
      "outputs": [
        {
          "output_type": "execute_result",
          "data": {
            "text/plain": [
              "           id             date   price  bedrooms  bathrooms  sqft_living  \\\n",
              "0  7129300520  20141013T000000  221900         3       1.00         1180   \n",
              "1  6414100192  20141209T000000  538000         3       2.25         2570   \n",
              "2  5631500400  20150225T000000  180000         2       1.00          770   \n",
              "3  2487200875  20141209T000000  604000         4       3.00         1960   \n",
              "4  1954400510  20150218T000000  510000         3       2.00         1680   \n",
              "\n",
              "   sqft_lot  floors  waterfront  view  ...  grade  sqft_above  sqft_basement  \\\n",
              "0      5650     1.0           0     0  ...      7        1180              0   \n",
              "1      7242     2.0           0     0  ...      7        2170            400   \n",
              "2     10000     1.0           0     0  ...      6         770              0   \n",
              "3      5000     1.0           0     0  ...      7        1050            910   \n",
              "4      8080     1.0           0     0  ...      8        1680              0   \n",
              "\n",
              "   yr_built  yr_renovated  zipcode      lat     long  sqft_living15  \\\n",
              "0      1955             0    98178  47.5112 -122.257           1340   \n",
              "1      1951          1991    98125  47.7210 -122.319           1690   \n",
              "2      1933             0    98028  47.7379 -122.233           2720   \n",
              "3      1965             0    98136  47.5208 -122.393           1360   \n",
              "4      1987             0    98074  47.6168 -122.045           1800   \n",
              "\n",
              "   sqft_lot15  \n",
              "0        5650  \n",
              "1        7639  \n",
              "2        8062  \n",
              "3        5000  \n",
              "4        7503  \n",
              "\n",
              "[5 rows x 21 columns]"
            ],
            "text/html": [
              "\n",
              "  <div id=\"df-5a2f6ce6-6ce8-46ff-bd65-22e6012aa537\" class=\"colab-df-container\">\n",
              "    <div>\n",
              "<style scoped>\n",
              "    .dataframe tbody tr th:only-of-type {\n",
              "        vertical-align: middle;\n",
              "    }\n",
              "\n",
              "    .dataframe tbody tr th {\n",
              "        vertical-align: top;\n",
              "    }\n",
              "\n",
              "    .dataframe thead th {\n",
              "        text-align: right;\n",
              "    }\n",
              "</style>\n",
              "<table border=\"1\" class=\"dataframe\">\n",
              "  <thead>\n",
              "    <tr style=\"text-align: right;\">\n",
              "      <th></th>\n",
              "      <th>id</th>\n",
              "      <th>date</th>\n",
              "      <th>price</th>\n",
              "      <th>bedrooms</th>\n",
              "      <th>bathrooms</th>\n",
              "      <th>sqft_living</th>\n",
              "      <th>sqft_lot</th>\n",
              "      <th>floors</th>\n",
              "      <th>waterfront</th>\n",
              "      <th>view</th>\n",
              "      <th>...</th>\n",
              "      <th>grade</th>\n",
              "      <th>sqft_above</th>\n",
              "      <th>sqft_basement</th>\n",
              "      <th>yr_built</th>\n",
              "      <th>yr_renovated</th>\n",
              "      <th>zipcode</th>\n",
              "      <th>lat</th>\n",
              "      <th>long</th>\n",
              "      <th>sqft_living15</th>\n",
              "      <th>sqft_lot15</th>\n",
              "    </tr>\n",
              "  </thead>\n",
              "  <tbody>\n",
              "    <tr>\n",
              "      <th>0</th>\n",
              "      <td>7129300520</td>\n",
              "      <td>20141013T000000</td>\n",
              "      <td>221900</td>\n",
              "      <td>3</td>\n",
              "      <td>1.00</td>\n",
              "      <td>1180</td>\n",
              "      <td>5650</td>\n",
              "      <td>1.0</td>\n",
              "      <td>0</td>\n",
              "      <td>0</td>\n",
              "      <td>...</td>\n",
              "      <td>7</td>\n",
              "      <td>1180</td>\n",
              "      <td>0</td>\n",
              "      <td>1955</td>\n",
              "      <td>0</td>\n",
              "      <td>98178</td>\n",
              "      <td>47.5112</td>\n",
              "      <td>-122.257</td>\n",
              "      <td>1340</td>\n",
              "      <td>5650</td>\n",
              "    </tr>\n",
              "    <tr>\n",
              "      <th>1</th>\n",
              "      <td>6414100192</td>\n",
              "      <td>20141209T000000</td>\n",
              "      <td>538000</td>\n",
              "      <td>3</td>\n",
              "      <td>2.25</td>\n",
              "      <td>2570</td>\n",
              "      <td>7242</td>\n",
              "      <td>2.0</td>\n",
              "      <td>0</td>\n",
              "      <td>0</td>\n",
              "      <td>...</td>\n",
              "      <td>7</td>\n",
              "      <td>2170</td>\n",
              "      <td>400</td>\n",
              "      <td>1951</td>\n",
              "      <td>1991</td>\n",
              "      <td>98125</td>\n",
              "      <td>47.7210</td>\n",
              "      <td>-122.319</td>\n",
              "      <td>1690</td>\n",
              "      <td>7639</td>\n",
              "    </tr>\n",
              "    <tr>\n",
              "      <th>2</th>\n",
              "      <td>5631500400</td>\n",
              "      <td>20150225T000000</td>\n",
              "      <td>180000</td>\n",
              "      <td>2</td>\n",
              "      <td>1.00</td>\n",
              "      <td>770</td>\n",
              "      <td>10000</td>\n",
              "      <td>1.0</td>\n",
              "      <td>0</td>\n",
              "      <td>0</td>\n",
              "      <td>...</td>\n",
              "      <td>6</td>\n",
              "      <td>770</td>\n",
              "      <td>0</td>\n",
              "      <td>1933</td>\n",
              "      <td>0</td>\n",
              "      <td>98028</td>\n",
              "      <td>47.7379</td>\n",
              "      <td>-122.233</td>\n",
              "      <td>2720</td>\n",
              "      <td>8062</td>\n",
              "    </tr>\n",
              "    <tr>\n",
              "      <th>3</th>\n",
              "      <td>2487200875</td>\n",
              "      <td>20141209T000000</td>\n",
              "      <td>604000</td>\n",
              "      <td>4</td>\n",
              "      <td>3.00</td>\n",
              "      <td>1960</td>\n",
              "      <td>5000</td>\n",
              "      <td>1.0</td>\n",
              "      <td>0</td>\n",
              "      <td>0</td>\n",
              "      <td>...</td>\n",
              "      <td>7</td>\n",
              "      <td>1050</td>\n",
              "      <td>910</td>\n",
              "      <td>1965</td>\n",
              "      <td>0</td>\n",
              "      <td>98136</td>\n",
              "      <td>47.5208</td>\n",
              "      <td>-122.393</td>\n",
              "      <td>1360</td>\n",
              "      <td>5000</td>\n",
              "    </tr>\n",
              "    <tr>\n",
              "      <th>4</th>\n",
              "      <td>1954400510</td>\n",
              "      <td>20150218T000000</td>\n",
              "      <td>510000</td>\n",
              "      <td>3</td>\n",
              "      <td>2.00</td>\n",
              "      <td>1680</td>\n",
              "      <td>8080</td>\n",
              "      <td>1.0</td>\n",
              "      <td>0</td>\n",
              "      <td>0</td>\n",
              "      <td>...</td>\n",
              "      <td>8</td>\n",
              "      <td>1680</td>\n",
              "      <td>0</td>\n",
              "      <td>1987</td>\n",
              "      <td>0</td>\n",
              "      <td>98074</td>\n",
              "      <td>47.6168</td>\n",
              "      <td>-122.045</td>\n",
              "      <td>1800</td>\n",
              "      <td>7503</td>\n",
              "    </tr>\n",
              "  </tbody>\n",
              "</table>\n",
              "<p>5 rows × 21 columns</p>\n",
              "</div>\n",
              "    <div class=\"colab-df-buttons\">\n",
              "\n",
              "  <div class=\"colab-df-container\">\n",
              "    <button class=\"colab-df-convert\" onclick=\"convertToInteractive('df-5a2f6ce6-6ce8-46ff-bd65-22e6012aa537')\"\n",
              "            title=\"Convert this dataframe to an interactive table.\"\n",
              "            style=\"display:none;\">\n",
              "\n",
              "  <svg xmlns=\"http://www.w3.org/2000/svg\" height=\"24px\" viewBox=\"0 -960 960 960\">\n",
              "    <path d=\"M120-120v-720h720v720H120Zm60-500h600v-160H180v160Zm220 220h160v-160H400v160Zm0 220h160v-160H400v160ZM180-400h160v-160H180v160Zm440 0h160v-160H620v160ZM180-180h160v-160H180v160Zm440 0h160v-160H620v160Z\"/>\n",
              "  </svg>\n",
              "    </button>\n",
              "\n",
              "  <style>\n",
              "    .colab-df-container {\n",
              "      display:flex;\n",
              "      gap: 12px;\n",
              "    }\n",
              "\n",
              "    .colab-df-convert {\n",
              "      background-color: #E8F0FE;\n",
              "      border: none;\n",
              "      border-radius: 50%;\n",
              "      cursor: pointer;\n",
              "      display: none;\n",
              "      fill: #1967D2;\n",
              "      height: 32px;\n",
              "      padding: 0 0 0 0;\n",
              "      width: 32px;\n",
              "    }\n",
              "\n",
              "    .colab-df-convert:hover {\n",
              "      background-color: #E2EBFA;\n",
              "      box-shadow: 0px 1px 2px rgba(60, 64, 67, 0.3), 0px 1px 3px 1px rgba(60, 64, 67, 0.15);\n",
              "      fill: #174EA6;\n",
              "    }\n",
              "\n",
              "    .colab-df-buttons div {\n",
              "      margin-bottom: 4px;\n",
              "    }\n",
              "\n",
              "    [theme=dark] .colab-df-convert {\n",
              "      background-color: #3B4455;\n",
              "      fill: #D2E3FC;\n",
              "    }\n",
              "\n",
              "    [theme=dark] .colab-df-convert:hover {\n",
              "      background-color: #434B5C;\n",
              "      box-shadow: 0px 1px 3px 1px rgba(0, 0, 0, 0.15);\n",
              "      filter: drop-shadow(0px 1px 2px rgba(0, 0, 0, 0.3));\n",
              "      fill: #FFFFFF;\n",
              "    }\n",
              "  </style>\n",
              "\n",
              "    <script>\n",
              "      const buttonEl =\n",
              "        document.querySelector('#df-5a2f6ce6-6ce8-46ff-bd65-22e6012aa537 button.colab-df-convert');\n",
              "      buttonEl.style.display =\n",
              "        google.colab.kernel.accessAllowed ? 'block' : 'none';\n",
              "\n",
              "      async function convertToInteractive(key) {\n",
              "        const element = document.querySelector('#df-5a2f6ce6-6ce8-46ff-bd65-22e6012aa537');\n",
              "        const dataTable =\n",
              "          await google.colab.kernel.invokeFunction('convertToInteractive',\n",
              "                                                    [key], {});\n",
              "        if (!dataTable) return;\n",
              "\n",
              "        const docLinkHtml = 'Like what you see? Visit the ' +\n",
              "          '<a target=\"_blank\" href=https://colab.research.google.com/notebooks/data_table.ipynb>data table notebook</a>'\n",
              "          + ' to learn more about interactive tables.';\n",
              "        element.innerHTML = '';\n",
              "        dataTable['output_type'] = 'display_data';\n",
              "        await google.colab.output.renderOutput(dataTable, element);\n",
              "        const docLink = document.createElement('div');\n",
              "        docLink.innerHTML = docLinkHtml;\n",
              "        element.appendChild(docLink);\n",
              "      }\n",
              "    </script>\n",
              "  </div>\n",
              "\n",
              "\n",
              "<div id=\"df-a8aacaea-8ea1-482e-8dbd-4af648ed7502\">\n",
              "  <button class=\"colab-df-quickchart\" onclick=\"quickchart('df-a8aacaea-8ea1-482e-8dbd-4af648ed7502')\"\n",
              "            title=\"Suggest charts\"\n",
              "            style=\"display:none;\">\n",
              "\n",
              "<svg xmlns=\"http://www.w3.org/2000/svg\" height=\"24px\"viewBox=\"0 0 24 24\"\n",
              "     width=\"24px\">\n",
              "    <g>\n",
              "        <path d=\"M19 3H5c-1.1 0-2 .9-2 2v14c0 1.1.9 2 2 2h14c1.1 0 2-.9 2-2V5c0-1.1-.9-2-2-2zM9 17H7v-7h2v7zm4 0h-2V7h2v10zm4 0h-2v-4h2v4z\"/>\n",
              "    </g>\n",
              "</svg>\n",
              "  </button>\n",
              "\n",
              "<style>\n",
              "  .colab-df-quickchart {\n",
              "      --bg-color: #E8F0FE;\n",
              "      --fill-color: #1967D2;\n",
              "      --hover-bg-color: #E2EBFA;\n",
              "      --hover-fill-color: #174EA6;\n",
              "      --disabled-fill-color: #AAA;\n",
              "      --disabled-bg-color: #DDD;\n",
              "  }\n",
              "\n",
              "  [theme=dark] .colab-df-quickchart {\n",
              "      --bg-color: #3B4455;\n",
              "      --fill-color: #D2E3FC;\n",
              "      --hover-bg-color: #434B5C;\n",
              "      --hover-fill-color: #FFFFFF;\n",
              "      --disabled-bg-color: #3B4455;\n",
              "      --disabled-fill-color: #666;\n",
              "  }\n",
              "\n",
              "  .colab-df-quickchart {\n",
              "    background-color: var(--bg-color);\n",
              "    border: none;\n",
              "    border-radius: 50%;\n",
              "    cursor: pointer;\n",
              "    display: none;\n",
              "    fill: var(--fill-color);\n",
              "    height: 32px;\n",
              "    padding: 0;\n",
              "    width: 32px;\n",
              "  }\n",
              "\n",
              "  .colab-df-quickchart:hover {\n",
              "    background-color: var(--hover-bg-color);\n",
              "    box-shadow: 0 1px 2px rgba(60, 64, 67, 0.3), 0 1px 3px 1px rgba(60, 64, 67, 0.15);\n",
              "    fill: var(--button-hover-fill-color);\n",
              "  }\n",
              "\n",
              "  .colab-df-quickchart-complete:disabled,\n",
              "  .colab-df-quickchart-complete:disabled:hover {\n",
              "    background-color: var(--disabled-bg-color);\n",
              "    fill: var(--disabled-fill-color);\n",
              "    box-shadow: none;\n",
              "  }\n",
              "\n",
              "  .colab-df-spinner {\n",
              "    border: 2px solid var(--fill-color);\n",
              "    border-color: transparent;\n",
              "    border-bottom-color: var(--fill-color);\n",
              "    animation:\n",
              "      spin 1s steps(1) infinite;\n",
              "  }\n",
              "\n",
              "  @keyframes spin {\n",
              "    0% {\n",
              "      border-color: transparent;\n",
              "      border-bottom-color: var(--fill-color);\n",
              "      border-left-color: var(--fill-color);\n",
              "    }\n",
              "    20% {\n",
              "      border-color: transparent;\n",
              "      border-left-color: var(--fill-color);\n",
              "      border-top-color: var(--fill-color);\n",
              "    }\n",
              "    30% {\n",
              "      border-color: transparent;\n",
              "      border-left-color: var(--fill-color);\n",
              "      border-top-color: var(--fill-color);\n",
              "      border-right-color: var(--fill-color);\n",
              "    }\n",
              "    40% {\n",
              "      border-color: transparent;\n",
              "      border-right-color: var(--fill-color);\n",
              "      border-top-color: var(--fill-color);\n",
              "    }\n",
              "    60% {\n",
              "      border-color: transparent;\n",
              "      border-right-color: var(--fill-color);\n",
              "    }\n",
              "    80% {\n",
              "      border-color: transparent;\n",
              "      border-right-color: var(--fill-color);\n",
              "      border-bottom-color: var(--fill-color);\n",
              "    }\n",
              "    90% {\n",
              "      border-color: transparent;\n",
              "      border-bottom-color: var(--fill-color);\n",
              "    }\n",
              "  }\n",
              "</style>\n",
              "\n",
              "  <script>\n",
              "    async function quickchart(key) {\n",
              "      const quickchartButtonEl =\n",
              "        document.querySelector('#' + key + ' button');\n",
              "      quickchartButtonEl.disabled = true;  // To prevent multiple clicks.\n",
              "      quickchartButtonEl.classList.add('colab-df-spinner');\n",
              "      try {\n",
              "        const charts = await google.colab.kernel.invokeFunction(\n",
              "            'suggestCharts', [key], {});\n",
              "      } catch (error) {\n",
              "        console.error('Error during call to suggestCharts:', error);\n",
              "      }\n",
              "      quickchartButtonEl.classList.remove('colab-df-spinner');\n",
              "      quickchartButtonEl.classList.add('colab-df-quickchart-complete');\n",
              "    }\n",
              "    (() => {\n",
              "      let quickchartButtonEl =\n",
              "        document.querySelector('#df-a8aacaea-8ea1-482e-8dbd-4af648ed7502 button');\n",
              "      quickchartButtonEl.style.display =\n",
              "        google.colab.kernel.accessAllowed ? 'block' : 'none';\n",
              "    })();\n",
              "  </script>\n",
              "</div>\n",
              "\n",
              "    </div>\n",
              "  </div>\n"
            ],
            "application/vnd.google.colaboratory.intrinsic+json": {
              "type": "dataframe",
              "variable_name": "housing"
            }
          },
          "metadata": {},
          "execution_count": 11
        }
      ],
      "source": [
        "import pandas as pd\n",
        "housing = pd.read_csv('/content/housing.csv')\n",
        "housing.head()"
      ]
    },
    {
      "cell_type": "markdown",
      "source": [
        "1. How many houses have a waterfront?\n",
        "\n",
        "A. 140\n",
        "\n",
        "B. 340\n",
        "\n",
        "C. 323\n",
        "\n",
        "D. 163\n",
        "\n",
        "Answer:\"D\""
      ],
      "metadata": {
        "id": "RBzlycC2K_u1"
      }
    },
    {
      "cell_type": "code",
      "source": [
        "waterfront=housing[\"waterfront\"].sum()\n",
        "waterfront"
      ],
      "metadata": {
        "colab": {
          "base_uri": "https://localhost:8080/"
        },
        "id": "RrXi7ErtKnh5",
        "outputId": "df195edd-7002-45fe-ae5c-6b93e3517762"
      },
      "execution_count": null,
      "outputs": [
        {
          "output_type": "execute_result",
          "data": {
            "text/plain": [
              "163"
            ]
          },
          "metadata": {},
          "execution_count": 12
        }
      ]
    },
    {
      "cell_type": "markdown",
      "source": [
        "2. Which zip code has the costliest house?\n",
        "\n",
        "A. 98456\n",
        "\n",
        "B. 98102\n",
        "\n",
        "C. 98283\n",
        "\n",
        "D. 89034\n",
        "\n",
        "Answer:\"B\""
      ],
      "metadata": {
        "id": "qnjACbCdMEK0"
      }
    },
    {
      "cell_type": "code",
      "source": [
        "zipcode = housing.loc[housing['price'].idxmax(), 'zipcode']\n",
        "print(zipcode)"
      ],
      "metadata": {
        "id": "UZfbnU0gMI9i",
        "colab": {
          "base_uri": "https://localhost:8080/"
        },
        "outputId": "7b517265-c606-4d86-eaa7-9e952a1d2033"
      },
      "execution_count": null,
      "outputs": [
        {
          "output_type": "stream",
          "name": "stdout",
          "text": [
            "98102\n"
          ]
        }
      ]
    },
    {
      "cell_type": "markdown",
      "source": [
        "3. How many houses are having grade 10?\n",
        "\n",
        "A. 1133\n",
        "\n",
        "B. 1134\n",
        "\n",
        "C. 1135\n",
        "\n",
        "D. 1132\n",
        "\n",
        "ANSWER:\"B\""
      ],
      "metadata": {
        "id": "QFz5t1_wf1be"
      }
    },
    {
      "source": [
        "grade_10_count = (housing['grade'] == 10).sum()\n",
        "print(grade_10_count)"
      ],
      "cell_type": "code",
      "metadata": {
        "colab": {
          "base_uri": "https://localhost:8080/"
        },
        "id": "Yli7w6WzgakZ",
        "outputId": "a1ac694f-3455-48e5-a7fa-b892f36f621c"
      },
      "execution_count": null,
      "outputs": [
        {
          "output_type": "stream",
          "name": "stdout",
          "text": [
            "1134\n"
          ]
        }
      ]
    },
    {
      "cell_type": "markdown",
      "source": [
        "4. How many null values are there in the dataset?\n",
        "\n",
        "A. 20\n",
        "\n",
        "B. 19\n",
        "\n",
        "C. 0\n",
        "\n",
        "D. 4\n",
        "\n",
        "Answer:\"C\""
      ],
      "metadata": {
        "id": "BFjo42nSgzvF"
      }
    },
    {
      "cell_type": "code",
      "source": [
        "null_values_count = housing.isnull().sum().sum()\n",
        "print(null_values_count)"
      ],
      "metadata": {
        "colab": {
          "base_uri": "https://localhost:8080/"
        },
        "id": "U1JxphmigzH1",
        "outputId": "00c4f7f5-107b-48bf-9e99-ff767b455e8d"
      },
      "execution_count": null,
      "outputs": [
        {
          "output_type": "stream",
          "name": "stdout",
          "text": [
            "0\n"
          ]
        }
      ]
    },
    {
      "cell_type": "markdown",
      "source": [
        "5. Does this 9126100861 customer have a waterfront?\n",
        "\n",
        "A. Yes\n",
        "\n",
        "B. No\n",
        "\n",
        "Answer:\"B\""
      ],
      "metadata": {
        "id": "gM5LWqF8hJ70"
      }
    },
    {
      "source": [
        "customer_id = 9126100861\n",
        "waterfront_status = housing.loc[housing['id'] == customer_id, 'waterfront'].iloc[0]\n",
        "\n",
        "if waterfront_status == 1:\n",
        "    print(\"Yes, the customer has a waterfront property.\")\n",
        "else:\n",
        "    print(\"No, the customer does not have a waterfront property.\")"
      ],
      "cell_type": "code",
      "metadata": {
        "colab": {
          "base_uri": "https://localhost:8080/"
        },
        "id": "hk42hzL5hRoM",
        "outputId": "2d149179-ad6e-479a-b436-980bd467c0fb"
      },
      "execution_count": null,
      "outputs": [
        {
          "output_type": "stream",
          "name": "stdout",
          "text": [
            "No, the customer does not have a waterfront property.\n"
          ]
        }
      ]
    },
    {
      "cell_type": "markdown",
      "source": [
        "6. How many houses have 3 views?\n",
        "\n",
        "A. 340\n",
        "\n",
        "B. 550\n",
        "\n",
        "C. 510\n",
        "\n",
        "D. 90\n",
        "\n",
        "Answer:\"C\""
      ],
      "metadata": {
        "id": "GTK3fD2yhl51"
      }
    },
    {
      "source": [
        "view_3_count = (housing['view'] == 3).sum()\n",
        "print(view_3_count)"
      ],
      "cell_type": "code",
      "metadata": {
        "colab": {
          "base_uri": "https://localhost:8080/"
        },
        "id": "qLR8bXj1hr6f",
        "outputId": "93f8f658-a578-4c75-b560-fdd1e10b4163"
      },
      "execution_count": null,
      "outputs": [
        {
          "output_type": "stream",
          "name": "stdout",
          "text": [
            "510\n"
          ]
        }
      ]
    },
    {
      "cell_type": "markdown",
      "source": [
        "7. What is the lowest price of the house?\n",
        "\n",
        "A. 45000\n",
        "\n",
        "B. 28000\n",
        "\n",
        "C. 75000\n",
        "\n",
        "D. 25000\n",
        "\n",
        "Answer:\"C\""
      ],
      "metadata": {
        "id": "tbwRlOlQh6Et"
      }
    },
    {
      "source": [
        "lowest_price = housing['price'].min()\n",
        "print(lowest_price)"
      ],
      "cell_type": "code",
      "metadata": {
        "colab": {
          "base_uri": "https://localhost:8080/"
        },
        "id": "uxMTVhd4h_0L",
        "outputId": "4b9c86c8-ea91-4ec3-c926-750b130f0f5d"
      },
      "execution_count": null,
      "outputs": [
        {
          "output_type": "stream",
          "name": "stdout",
          "text": [
            "75000\n"
          ]
        }
      ]
    },
    {
      "cell_type": "markdown",
      "source": [
        "8. Which zip code area has the cheapest house?\n",
        "\n",
        "A. 98000\n",
        "\n",
        "B. 98022\n",
        "\n",
        "C. 80000\n",
        "\n",
        "D. 94500\n",
        "\n",
        "Answer:\"B\""
      ],
      "metadata": {
        "id": "ghr_DcaIiu1l"
      }
    },
    {
      "source": [
        "min_price_index = housing['price'].idxmin()\n",
        "cheapest_house_zipcode = housing.loc[min_price_index, 'zipcode']\n",
        "print(cheapest_house_zipcode)"
      ],
      "cell_type": "code",
      "metadata": {
        "colab": {
          "base_uri": "https://localhost:8080/"
        },
        "id": "F7pV2TLwimZm",
        "outputId": "09f3242f-4fcc-40fd-c445-35f545d67082"
      },
      "execution_count": null,
      "outputs": [
        {
          "output_type": "stream",
          "name": "stdout",
          "text": [
            "98022\n"
          ]
        }
      ]
    },
    {
      "cell_type": "markdown",
      "source": [
        "9. Which area has the biggest sqft_living?\n",
        "\n",
        "A. 98053\n",
        "\n",
        "B. 98055\n",
        "\n",
        "C. 98035\n",
        "\n",
        "D. None of the above\n",
        "\n",
        "Answer:\"A\""
      ],
      "metadata": {
        "id": "OTwO7g1Pi6E7"
      }
    },
    {
      "cell_type": "code",
      "source": [
        "biggest_sqft_living_zip = housing.loc[housing['sqft_living'].idxmax(), 'zipcode']\n",
        "biggest_sqft_living_zip"
      ],
      "metadata": {
        "colab": {
          "base_uri": "https://localhost:8080/"
        },
        "id": "tcR_mR_gjSwO",
        "outputId": "d1d54250-bce1-4b6a-af0a-5814720f51de"
      },
      "execution_count": null,
      "outputs": [
        {
          "output_type": "execute_result",
          "data": {
            "text/plain": [
              "98053"
            ]
          },
          "metadata": {},
          "execution_count": 24
        }
      ]
    },
    {
      "cell_type": "markdown",
      "source": [
        "10. In which year the costliest house has been built?\n",
        "\n",
        "A. 2000\n",
        "\n",
        "B. 1992\n",
        "\n",
        "C. 1911\n",
        "\n",
        "D. 1910\n",
        "\n",
        "Answer:\"D\""
      ],
      "metadata": {
        "id": "osmh9QmMjlKC"
      }
    },
    {
      "source": [
        "costliest_house_index = housing['price'].idxmax()\n",
        "year_built = housing.loc[costliest_house_index, 'yr_built']\n",
        "print(year_built)"
      ],
      "cell_type": "code",
      "metadata": {
        "colab": {
          "base_uri": "https://localhost:8080/"
        },
        "id": "Wtcf91bvj1SK",
        "outputId": "d647bcaa-e658-4aae-fbe5-c5151adb4cb2"
      },
      "execution_count": null,
      "outputs": [
        {
          "output_type": "stream",
          "name": "stdout",
          "text": [
            "1910\n"
          ]
        }
      ]
    },
    {
      "cell_type": "markdown",
      "source": [
        "11. Which of the following data types can a Pandas Series have?\n",
        "\n",
        "A. Int\n",
        "\n",
        "B. Str\n",
        "\n",
        "C. Float\n",
        "\n",
        "D. All of the above\n",
        "\n",
        "Answer:\"D\""
      ],
      "metadata": {
        "id": "wN_FWkSDlsNs"
      }
    },
    {
      "cell_type": "markdown",
      "source": [
        "12. Which of the following is having a one-dimensional array?\n",
        "\n",
        "A. Series data type\n",
        "\n",
        "B. DataFrame data type\n",
        "\n",
        "C. Both of the above\n",
        "\n",
        "D. None of the above\n",
        "\n",
        "Answer:\"A\""
      ],
      "metadata": {
        "id": "1W72atXHl5F3"
      }
    },
    {
      "cell_type": "markdown",
      "source": [
        "13. What value will you get on the left side after printing a series format data?\n",
        "\n",
        "A. Data\n",
        "\n",
        "B. Value\n",
        "\n",
        "C. Index\n",
        "\n",
        "D. All of the above\n",
        "\n",
        "Answer:\"C\""
      ],
      "metadata": {
        "id": "c9OVI5EJmKD3"
      }
    },
    {
      "source": [
        "import pandas as pd\n",
        "\n",
        "data = [10, 20, 30]\n",
        "series = pd.Series(data)\n",
        "print(series)"
      ],
      "cell_type": "code",
      "metadata": {
        "colab": {
          "base_uri": "https://localhost:8080/"
        },
        "id": "HGZZttUOmNtI",
        "outputId": "6d3c560f-8c0f-45c1-9c6a-e5ec6b358d8a"
      },
      "execution_count": null,
      "outputs": [
        {
          "output_type": "stream",
          "name": "stdout",
          "text": [
            "0    10\n",
            "1    20\n",
            "2    30\n",
            "dtype: int64\n"
          ]
        }
      ]
    },
    {
      "cell_type": "markdown",
      "source": [
        "14. Which of the following is considered as data in pandas?\n",
        "\n",
        "A. Dictionary\n",
        "\n",
        "B. Boolean\n",
        "\n",
        "C. Nd-array\n",
        "\n",
        "D. All of the above\n",
        "\n",
        "Answer:\"D\""
      ],
      "metadata": {
        "id": "pns-vfQMmai6"
      }
    },
    {
      "source": [
        "import pandas as pd\n",
        "import numpy as np\n",
        "\n",
        "# Dictionary as data\n",
        "data_dict = {'col1': [1, 2], 'col2': [3, 4]}\n",
        "df_dict = pd.DataFrame(data_dict)\n",
        "print(df_dict)\n",
        "# Boolean as data\n",
        "data_bool = [True, False, True]\n",
        "series_bool = pd.Series(data_bool)\n",
        "print(series_bool)\n",
        "# Nd-array as data\n",
        "data_array = np.array([[1, 2], [3, 4]])\n",
        "df_array = pd.DataFrame(data_array)\n",
        "print(df_array)"
      ],
      "cell_type": "code",
      "metadata": {
        "colab": {
          "base_uri": "https://localhost:8080/"
        },
        "id": "-s8gbRGcmq_O",
        "outputId": "36117cbb-b7ef-4cdc-85cc-6bcacdb34d15"
      },
      "execution_count": null,
      "outputs": [
        {
          "output_type": "stream",
          "name": "stdout",
          "text": [
            "   col1  col2\n",
            "0     1     3\n",
            "1     2     4\n",
            "0     True\n",
            "1    False\n",
            "2     True\n",
            "dtype: bool\n",
            "   0  1\n",
            "0  1  2\n",
            "1  3  4\n"
          ]
        }
      ]
    },
    {
      "cell_type": "markdown",
      "source": [
        "15. In what format the keys will get converted into when we convert the dictionary data into\n",
        "data frame format?\n",
        "\n",
        "A. Rows\n",
        "\n",
        "B. Columns\n",
        "\n",
        "C. Indexes\n",
        "\n",
        "D. Records\n",
        "\n",
        "Answer:\"B\""
      ],
      "metadata": {
        "id": "SOn-YF3Ynbu7"
      }
    },
    {
      "source": [
        "import pandas as pd\n",
        "\n",
        "data = {'Name': ['Alice', 'Bob'], 'Age': [25, 30]}\n",
        "df = pd.DataFrame(data)\n",
        "\n",
        "print(df)"
      ],
      "cell_type": "code",
      "metadata": {
        "colab": {
          "base_uri": "https://localhost:8080/"
        },
        "id": "BJ8Ythnjni6E",
        "outputId": "b8a09f44-e3a3-477a-d515-d7d7cf299e02"
      },
      "execution_count": null,
      "outputs": [
        {
          "output_type": "stream",
          "name": "stdout",
          "text": [
            "    Name  Age\n",
            "0  Alice   25\n",
            "1    Bob   30\n"
          ]
        }
      ]
    },
    {
      "cell_type": "markdown",
      "source": [
        "16. Write a function to perform the following operation:\n",
        "Increase the grade of the house by 1 if the sqft of the house is greater than 0 and less than\n",
        "equal to 400. If the total sqft of the house is greater than 400, increase the grade of the house\n",
        "by 2.\n",
        "\n",
        "After creating the above function, which syntax will be using when using apply function to run\n",
        "the above created function in the dataset?\n",
        "\n",
        "A. data.apply(your_function_name(arg1))\n",
        "\n",
        "B. data.apply_fun(function_name())\n",
        "\n",
        "C. data.app(data)\n",
        "\n",
        "D. None of the above\n",
        "\n",
        "\n",
        "Answer:\"A\""
      ],
      "metadata": {
        "id": "6D4sppm-omrt"
      }
    },
    {
      "source": [
        "import pandas as pd\n",
        "\n",
        "# Assuming 'housing' is your DataFrame loaded with data\n",
        "def increase_grade(row):\n",
        "    if 0 < row['sqft_living'] <= 400:\n",
        "        row['grade'] += 1  # Increase grade by 1\n",
        "    elif row['sqft_living'] > 400:\n",
        "        row['grade'] += 2  # Increase grade by 2\n",
        "    return row\n",
        "\n",
        "housing = housing.apply(increase_grade, axis=1)\n",
        "\n",
        "# Print the updated DataFrame\n",
        "print(housing)"
      ],
      "cell_type": "code",
      "metadata": {
        "colab": {
          "base_uri": "https://localhost:8080/"
        },
        "id": "l9lnIhARoR_s",
        "outputId": "db80df45-a48f-4858-a242-f2463b596aae"
      },
      "execution_count": null,
      "outputs": [
        {
          "output_type": "stream",
          "name": "stdout",
          "text": [
            "               id             date   price  bedrooms  bathrooms  sqft_living  \\\n",
            "0      7129300520  20141013T000000  221900         3       1.00         1180   \n",
            "1      6414100192  20141209T000000  538000         3       2.25         2570   \n",
            "2      5631500400  20150225T000000  180000         2       1.00          770   \n",
            "3      2487200875  20141209T000000  604000         4       3.00         1960   \n",
            "4      1954400510  20150218T000000  510000         3       2.00         1680   \n",
            "...           ...              ...     ...       ...        ...          ...   \n",
            "21608   263000018  20140521T000000  360000         3       2.50         1530   \n",
            "21609  6600060120  20150223T000000  400000         4       2.50         2310   \n",
            "21610  1523300141  20140623T000000  402101         2       0.75         1020   \n",
            "21611   291310100  20150116T000000  400000         3       2.50         1600   \n",
            "21612  1523300157  20141015T000000  325000         2       0.75         1020   \n",
            "\n",
            "       sqft_lot  floors  waterfront  view  ...  grade  sqft_above  \\\n",
            "0          5650     1.0           0     0  ...     11        1180   \n",
            "1          7242     2.0           0     0  ...     11        2170   \n",
            "2         10000     1.0           0     0  ...     10         770   \n",
            "3          5000     1.0           0     0  ...     11        1050   \n",
            "4          8080     1.0           0     0  ...     12        1680   \n",
            "...         ...     ...         ...   ...  ...    ...         ...   \n",
            "21608      1131     3.0           0     0  ...     12        1530   \n",
            "21609      5813     2.0           0     0  ...     12        2310   \n",
            "21610      1350     2.0           0     0  ...     11        1020   \n",
            "21611      2388     2.0           0     0  ...     12        1600   \n",
            "21612      1076     2.0           0     0  ...     11        1020   \n",
            "\n",
            "       sqft_basement  yr_built  yr_renovated  zipcode      lat     long  \\\n",
            "0                  0      1955             0    98178  47.5112 -122.257   \n",
            "1                400      1951          1991    98125  47.7210 -122.319   \n",
            "2                  0      1933             0    98028  47.7379 -122.233   \n",
            "3                910      1965             0    98136  47.5208 -122.393   \n",
            "4                  0      1987             0    98074  47.6168 -122.045   \n",
            "...              ...       ...           ...      ...      ...      ...   \n",
            "21608              0      2009             0    98103  47.6993 -122.346   \n",
            "21609              0      2014             0    98146  47.5107 -122.362   \n",
            "21610              0      2009             0    98144  47.5944 -122.299   \n",
            "21611              0      2004             0    98027  47.5345 -122.069   \n",
            "21612              0      2008             0    98144  47.5941 -122.299   \n",
            "\n",
            "       sqft_living15  sqft_lot15  \n",
            "0               1340        5650  \n",
            "1               1690        7639  \n",
            "2               2720        8062  \n",
            "3               1360        5000  \n",
            "4               1800        7503  \n",
            "...              ...         ...  \n",
            "21608           1530        1509  \n",
            "21609           1830        7200  \n",
            "21610           1020        2007  \n",
            "21611           1410        1287  \n",
            "21612           1020        1357  \n",
            "\n",
            "[21613 rows x 21 columns]\n"
          ]
        }
      ]
    },
    {
      "cell_type": "markdown",
      "source": [
        "17. How to check the duplicate values on id,grade and location?\n",
        "\n",
        "A. df.duplicated(subset=['id','zipcode','grade'])\n",
        "\n",
        "B. df.duplicate(subset=['id','zipcode','grade'])\n",
        "\n",
        "C. df[df.duplicated(['id','zipcode','grade’])]\n",
        "\n",
        "D. All of the above\n",
        "\n",
        "Answer:\"C\""
      ],
      "metadata": {
        "id": "wdpr5qIIo-Lc"
      }
    },
    {
      "source": [
        "# Assuming your DataFrame ised 'housing'\n",
        "duplicate_rows = housing[housing.duplicated(subset=['id', 'zipcode', 'grade'], keep=False)]\n",
        "print(duplicate_rows)"
      ],
      "cell_type": "code",
      "metadata": {
        "colab": {
          "base_uri": "https://localhost:8080/"
        },
        "id": "_7TKBDnvpWMe",
        "outputId": "97c65969-09b7-4912-dd66-409f7bc5f7e5"
      },
      "execution_count": null,
      "outputs": [
        {
          "output_type": "stream",
          "name": "stdout",
          "text": [
            "               id             date    price  bedrooms  bathrooms  sqft_living  \\\n",
            "93     6021501535  20140725T000000   430000         3       1.50         1580   \n",
            "94     6021501535  20141223T000000   700000         3       1.50         1580   \n",
            "313    4139480200  20140618T000000  1384000         4       3.25         4290   \n",
            "314    4139480200  20141209T000000  1400000         4       3.25         4290   \n",
            "324    7520000520  20140905T000000   232000         2       1.00         1240   \n",
            "...           ...              ...      ...       ...        ...          ...   \n",
            "20670  8564860270  20150330T000000   502000         4       2.50         2680   \n",
            "20779  6300000226  20140626T000000   240000         4       1.00         1200   \n",
            "20780  6300000226  20150504T000000   380000         4       1.00         1200   \n",
            "21580  7853420110  20141003T000000   594866         3       3.00         2780   \n",
            "21581  7853420110  20150504T000000   625000         3       3.00         2780   \n",
            "\n",
            "       sqft_lot  floors  waterfront  view  ...  grade  sqft_above  \\\n",
            "93         5000     1.0           0     0  ...     12        1290   \n",
            "94         5000     1.0           0     0  ...     12        1290   \n",
            "313       12103     1.0           0     3  ...     15        2690   \n",
            "314       12103     1.0           0     3  ...     15        2690   \n",
            "324       12092     1.0           0     0  ...     10         960   \n",
            "...         ...     ...         ...   ...  ...    ...         ...   \n",
            "20670      5539     2.0           0     0  ...     12        2680   \n",
            "20779      2171     1.5           0     0  ...     11        1200   \n",
            "20780      2171     1.5           0     0  ...     11        1200   \n",
            "21580      6000     2.0           0     0  ...     13        2780   \n",
            "21581      6000     2.0           0     0  ...     13        2780   \n",
            "\n",
            "       sqft_basement  yr_built  yr_renovated  zipcode      lat     long  \\\n",
            "93               290      1939             0    98117  47.6870 -122.386   \n",
            "94               290      1939             0    98117  47.6870 -122.386   \n",
            "313             1600      1997             0    98006  47.5503 -122.102   \n",
            "314             1600      1997             0    98006  47.5503 -122.102   \n",
            "324              280      1922          1984    98146  47.4957 -122.352   \n",
            "...              ...       ...           ...      ...      ...      ...   \n",
            "20670              0      2013             0    98045  47.4759 -121.734   \n",
            "20779              0      1933             0    98133  47.7076 -122.342   \n",
            "20780              0      1933             0    98133  47.7076 -122.342   \n",
            "21580              0      2013             0    98065  47.5184 -121.886   \n",
            "21581              0      2013             0    98065  47.5184 -121.886   \n",
            "\n",
            "       sqft_living15  sqft_lot15  \n",
            "93              1570        4500  \n",
            "94              1570        4500  \n",
            "313             3860       11244  \n",
            "314             3860       11244  \n",
            "324             1820        7460  \n",
            "...              ...         ...  \n",
            "20670           2680        5992  \n",
            "20779           1130        1598  \n",
            "20780           1130        1598  \n",
            "21580           2850        6000  \n",
            "21581           2850        6000  \n",
            "\n",
            "[353 rows x 21 columns]\n"
          ]
        }
      ]
    },
    {
      "cell_type": "markdown",
      "source": [
        "18. Which of the following code will help to display the 3rd, 4th and 5th rows from the 6th to 9th\n",
        "columns of data frame data?\n",
        "\n",
        "A. data.loc[3:6, 6:10]\n",
        "\n",
        "B. data.iloc[3;6,6;10]\n",
        "\n",
        "C. data.iloc[3:6,6:10]\n",
        "\n",
        "D. None of the above\n",
        "\n",
        "Answer:\"C\""
      ],
      "metadata": {
        "id": "30fWoonjpqCh"
      }
    },
    {
      "cell_type": "code",
      "source": [
        "housing.iloc[3:6, 6:10]"
      ],
      "metadata": {
        "colab": {
          "base_uri": "https://localhost:8080/",
          "height": 143
        },
        "id": "DdlOJHL4poGF",
        "outputId": "c7b107ee-8543-4eba-a2d4-19cea3ffb376"
      },
      "execution_count": null,
      "outputs": [
        {
          "output_type": "execute_result",
          "data": {
            "text/plain": [
              "   sqft_lot  floors  waterfront  view\n",
              "3      5000     1.0           0     0\n",
              "4      8080     1.0           0     0\n",
              "5    101930     1.0           0     0"
            ],
            "text/html": [
              "\n",
              "  <div id=\"df-a3e3ada6-2cc6-4f0d-8744-8a17b3127f43\" class=\"colab-df-container\">\n",
              "    <div>\n",
              "<style scoped>\n",
              "    .dataframe tbody tr th:only-of-type {\n",
              "        vertical-align: middle;\n",
              "    }\n",
              "\n",
              "    .dataframe tbody tr th {\n",
              "        vertical-align: top;\n",
              "    }\n",
              "\n",
              "    .dataframe thead th {\n",
              "        text-align: right;\n",
              "    }\n",
              "</style>\n",
              "<table border=\"1\" class=\"dataframe\">\n",
              "  <thead>\n",
              "    <tr style=\"text-align: right;\">\n",
              "      <th></th>\n",
              "      <th>sqft_lot</th>\n",
              "      <th>floors</th>\n",
              "      <th>waterfront</th>\n",
              "      <th>view</th>\n",
              "    </tr>\n",
              "  </thead>\n",
              "  <tbody>\n",
              "    <tr>\n",
              "      <th>3</th>\n",
              "      <td>5000</td>\n",
              "      <td>1.0</td>\n",
              "      <td>0</td>\n",
              "      <td>0</td>\n",
              "    </tr>\n",
              "    <tr>\n",
              "      <th>4</th>\n",
              "      <td>8080</td>\n",
              "      <td>1.0</td>\n",
              "      <td>0</td>\n",
              "      <td>0</td>\n",
              "    </tr>\n",
              "    <tr>\n",
              "      <th>5</th>\n",
              "      <td>101930</td>\n",
              "      <td>1.0</td>\n",
              "      <td>0</td>\n",
              "      <td>0</td>\n",
              "    </tr>\n",
              "  </tbody>\n",
              "</table>\n",
              "</div>\n",
              "    <div class=\"colab-df-buttons\">\n",
              "\n",
              "  <div class=\"colab-df-container\">\n",
              "    <button class=\"colab-df-convert\" onclick=\"convertToInteractive('df-a3e3ada6-2cc6-4f0d-8744-8a17b3127f43')\"\n",
              "            title=\"Convert this dataframe to an interactive table.\"\n",
              "            style=\"display:none;\">\n",
              "\n",
              "  <svg xmlns=\"http://www.w3.org/2000/svg\" height=\"24px\" viewBox=\"0 -960 960 960\">\n",
              "    <path d=\"M120-120v-720h720v720H120Zm60-500h600v-160H180v160Zm220 220h160v-160H400v160Zm0 220h160v-160H400v160ZM180-400h160v-160H180v160Zm440 0h160v-160H620v160ZM180-180h160v-160H180v160Zm440 0h160v-160H620v160Z\"/>\n",
              "  </svg>\n",
              "    </button>\n",
              "\n",
              "  <style>\n",
              "    .colab-df-container {\n",
              "      display:flex;\n",
              "      gap: 12px;\n",
              "    }\n",
              "\n",
              "    .colab-df-convert {\n",
              "      background-color: #E8F0FE;\n",
              "      border: none;\n",
              "      border-radius: 50%;\n",
              "      cursor: pointer;\n",
              "      display: none;\n",
              "      fill: #1967D2;\n",
              "      height: 32px;\n",
              "      padding: 0 0 0 0;\n",
              "      width: 32px;\n",
              "    }\n",
              "\n",
              "    .colab-df-convert:hover {\n",
              "      background-color: #E2EBFA;\n",
              "      box-shadow: 0px 1px 2px rgba(60, 64, 67, 0.3), 0px 1px 3px 1px rgba(60, 64, 67, 0.15);\n",
              "      fill: #174EA6;\n",
              "    }\n",
              "\n",
              "    .colab-df-buttons div {\n",
              "      margin-bottom: 4px;\n",
              "    }\n",
              "\n",
              "    [theme=dark] .colab-df-convert {\n",
              "      background-color: #3B4455;\n",
              "      fill: #D2E3FC;\n",
              "    }\n",
              "\n",
              "    [theme=dark] .colab-df-convert:hover {\n",
              "      background-color: #434B5C;\n",
              "      box-shadow: 0px 1px 3px 1px rgba(0, 0, 0, 0.15);\n",
              "      filter: drop-shadow(0px 1px 2px rgba(0, 0, 0, 0.3));\n",
              "      fill: #FFFFFF;\n",
              "    }\n",
              "  </style>\n",
              "\n",
              "    <script>\n",
              "      const buttonEl =\n",
              "        document.querySelector('#df-a3e3ada6-2cc6-4f0d-8744-8a17b3127f43 button.colab-df-convert');\n",
              "      buttonEl.style.display =\n",
              "        google.colab.kernel.accessAllowed ? 'block' : 'none';\n",
              "\n",
              "      async function convertToInteractive(key) {\n",
              "        const element = document.querySelector('#df-a3e3ada6-2cc6-4f0d-8744-8a17b3127f43');\n",
              "        const dataTable =\n",
              "          await google.colab.kernel.invokeFunction('convertToInteractive',\n",
              "                                                    [key], {});\n",
              "        if (!dataTable) return;\n",
              "\n",
              "        const docLinkHtml = 'Like what you see? Visit the ' +\n",
              "          '<a target=\"_blank\" href=https://colab.research.google.com/notebooks/data_table.ipynb>data table notebook</a>'\n",
              "          + ' to learn more about interactive tables.';\n",
              "        element.innerHTML = '';\n",
              "        dataTable['output_type'] = 'display_data';\n",
              "        await google.colab.output.renderOutput(dataTable, element);\n",
              "        const docLink = document.createElement('div');\n",
              "        docLink.innerHTML = docLinkHtml;\n",
              "        element.appendChild(docLink);\n",
              "      }\n",
              "    </script>\n",
              "  </div>\n",
              "\n",
              "\n",
              "<div id=\"df-29452943-3edb-4ff1-acc5-c5921e33ff3a\">\n",
              "  <button class=\"colab-df-quickchart\" onclick=\"quickchart('df-29452943-3edb-4ff1-acc5-c5921e33ff3a')\"\n",
              "            title=\"Suggest charts\"\n",
              "            style=\"display:none;\">\n",
              "\n",
              "<svg xmlns=\"http://www.w3.org/2000/svg\" height=\"24px\"viewBox=\"0 0 24 24\"\n",
              "     width=\"24px\">\n",
              "    <g>\n",
              "        <path d=\"M19 3H5c-1.1 0-2 .9-2 2v14c0 1.1.9 2 2 2h14c1.1 0 2-.9 2-2V5c0-1.1-.9-2-2-2zM9 17H7v-7h2v7zm4 0h-2V7h2v10zm4 0h-2v-4h2v4z\"/>\n",
              "    </g>\n",
              "</svg>\n",
              "  </button>\n",
              "\n",
              "<style>\n",
              "  .colab-df-quickchart {\n",
              "      --bg-color: #E8F0FE;\n",
              "      --fill-color: #1967D2;\n",
              "      --hover-bg-color: #E2EBFA;\n",
              "      --hover-fill-color: #174EA6;\n",
              "      --disabled-fill-color: #AAA;\n",
              "      --disabled-bg-color: #DDD;\n",
              "  }\n",
              "\n",
              "  [theme=dark] .colab-df-quickchart {\n",
              "      --bg-color: #3B4455;\n",
              "      --fill-color: #D2E3FC;\n",
              "      --hover-bg-color: #434B5C;\n",
              "      --hover-fill-color: #FFFFFF;\n",
              "      --disabled-bg-color: #3B4455;\n",
              "      --disabled-fill-color: #666;\n",
              "  }\n",
              "\n",
              "  .colab-df-quickchart {\n",
              "    background-color: var(--bg-color);\n",
              "    border: none;\n",
              "    border-radius: 50%;\n",
              "    cursor: pointer;\n",
              "    display: none;\n",
              "    fill: var(--fill-color);\n",
              "    height: 32px;\n",
              "    padding: 0;\n",
              "    width: 32px;\n",
              "  }\n",
              "\n",
              "  .colab-df-quickchart:hover {\n",
              "    background-color: var(--hover-bg-color);\n",
              "    box-shadow: 0 1px 2px rgba(60, 64, 67, 0.3), 0 1px 3px 1px rgba(60, 64, 67, 0.15);\n",
              "    fill: var(--button-hover-fill-color);\n",
              "  }\n",
              "\n",
              "  .colab-df-quickchart-complete:disabled,\n",
              "  .colab-df-quickchart-complete:disabled:hover {\n",
              "    background-color: var(--disabled-bg-color);\n",
              "    fill: var(--disabled-fill-color);\n",
              "    box-shadow: none;\n",
              "  }\n",
              "\n",
              "  .colab-df-spinner {\n",
              "    border: 2px solid var(--fill-color);\n",
              "    border-color: transparent;\n",
              "    border-bottom-color: var(--fill-color);\n",
              "    animation:\n",
              "      spin 1s steps(1) infinite;\n",
              "  }\n",
              "\n",
              "  @keyframes spin {\n",
              "    0% {\n",
              "      border-color: transparent;\n",
              "      border-bottom-color: var(--fill-color);\n",
              "      border-left-color: var(--fill-color);\n",
              "    }\n",
              "    20% {\n",
              "      border-color: transparent;\n",
              "      border-left-color: var(--fill-color);\n",
              "      border-top-color: var(--fill-color);\n",
              "    }\n",
              "    30% {\n",
              "      border-color: transparent;\n",
              "      border-left-color: var(--fill-color);\n",
              "      border-top-color: var(--fill-color);\n",
              "      border-right-color: var(--fill-color);\n",
              "    }\n",
              "    40% {\n",
              "      border-color: transparent;\n",
              "      border-right-color: var(--fill-color);\n",
              "      border-top-color: var(--fill-color);\n",
              "    }\n",
              "    60% {\n",
              "      border-color: transparent;\n",
              "      border-right-color: var(--fill-color);\n",
              "    }\n",
              "    80% {\n",
              "      border-color: transparent;\n",
              "      border-right-color: var(--fill-color);\n",
              "      border-bottom-color: var(--fill-color);\n",
              "    }\n",
              "    90% {\n",
              "      border-color: transparent;\n",
              "      border-bottom-color: var(--fill-color);\n",
              "    }\n",
              "  }\n",
              "</style>\n",
              "\n",
              "  <script>\n",
              "    async function quickchart(key) {\n",
              "      const quickchartButtonEl =\n",
              "        document.querySelector('#' + key + ' button');\n",
              "      quickchartButtonEl.disabled = true;  // To prevent multiple clicks.\n",
              "      quickchartButtonEl.classList.add('colab-df-spinner');\n",
              "      try {\n",
              "        const charts = await google.colab.kernel.invokeFunction(\n",
              "            'suggestCharts', [key], {});\n",
              "      } catch (error) {\n",
              "        console.error('Error during call to suggestCharts:', error);\n",
              "      }\n",
              "      quickchartButtonEl.classList.remove('colab-df-spinner');\n",
              "      quickchartButtonEl.classList.add('colab-df-quickchart-complete');\n",
              "    }\n",
              "    (() => {\n",
              "      let quickchartButtonEl =\n",
              "        document.querySelector('#df-29452943-3edb-4ff1-acc5-c5921e33ff3a button');\n",
              "      quickchartButtonEl.style.display =\n",
              "        google.colab.kernel.accessAllowed ? 'block' : 'none';\n",
              "    })();\n",
              "  </script>\n",
              "</div>\n",
              "\n",
              "    </div>\n",
              "  </div>\n"
            ],
            "application/vnd.google.colaboratory.intrinsic+json": {
              "type": "dataframe",
              "summary": "{\n  \"name\": \"housing\",\n  \"rows\": 3,\n  \"fields\": [\n    {\n      \"column\": \"sqft_lot\",\n      \"properties\": {\n        \"dtype\": \"number\",\n        \"std\": 55094,\n        \"min\": 5000,\n        \"max\": 101930,\n        \"num_unique_values\": 3,\n        \"samples\": [\n          5000,\n          8080,\n          101930\n        ],\n        \"semantic_type\": \"\",\n        \"description\": \"\"\n      }\n    },\n    {\n      \"column\": \"floors\",\n      \"properties\": {\n        \"dtype\": \"number\",\n        \"std\": 0.0,\n        \"min\": 1.0,\n        \"max\": 1.0,\n        \"num_unique_values\": 1,\n        \"samples\": [\n          1.0\n        ],\n        \"semantic_type\": \"\",\n        \"description\": \"\"\n      }\n    },\n    {\n      \"column\": \"waterfront\",\n      \"properties\": {\n        \"dtype\": \"number\",\n        \"std\": 0,\n        \"min\": 0,\n        \"max\": 0,\n        \"num_unique_values\": 1,\n        \"samples\": [\n          0\n        ],\n        \"semantic_type\": \"\",\n        \"description\": \"\"\n      }\n    },\n    {\n      \"column\": \"view\",\n      \"properties\": {\n        \"dtype\": \"number\",\n        \"std\": 0,\n        \"min\": 0,\n        \"max\": 0,\n        \"num_unique_values\": 1,\n        \"samples\": [\n          0\n        ],\n        \"semantic_type\": \"\",\n        \"description\": \"\"\n      }\n    }\n  ]\n}"
            }
          },
          "metadata": {},
          "execution_count": 37
        }
      ]
    },
    {
      "cell_type": "markdown",
      "source": [
        "19. Which of the following syntax will display the last two records of df?\n",
        "import pandas as pd\n",
        "\n",
        "df = pd.DataFrame({'A':[34, 78, 54], 'B':[12, 67, 43]}, index=['r1', 'r2', 'r3'])\n",
        "\n",
        "A. df.iloc[:'r3']\n",
        "\n",
        "B. df.loc['r2':'r3']\n",
        "\n",
        "C. df.iloc['r2':'r3']\n",
        "\n",
        "D. df.loc[:'r3']\n",
        "\n",
        "Answer:\"B\""
      ],
      "metadata": {
        "id": "P74Mw6uGp_HE"
      }
    },
    {
      "cell_type": "code",
      "source": [
        "df = pd.DataFrame({'A':[34, 78, 54], 'B':[12, 67, 43]}, index=['r1', 'r2', 'r3'])\n",
        "df.loc['r2':'r3']"
      ],
      "metadata": {
        "colab": {
          "base_uri": "https://localhost:8080/",
          "height": 112
        },
        "id": "MfGJKS0MqF0W",
        "outputId": "1b4b0351-b3e9-4cce-ef11-bc8dce439a2a"
      },
      "execution_count": null,
      "outputs": [
        {
          "output_type": "execute_result",
          "data": {
            "text/plain": [
              "     A   B\n",
              "r2  78  67\n",
              "r3  54  43"
            ],
            "text/html": [
              "\n",
              "  <div id=\"df-432423e3-e4a2-481c-b0a1-9586668c8818\" class=\"colab-df-container\">\n",
              "    <div>\n",
              "<style scoped>\n",
              "    .dataframe tbody tr th:only-of-type {\n",
              "        vertical-align: middle;\n",
              "    }\n",
              "\n",
              "    .dataframe tbody tr th {\n",
              "        vertical-align: top;\n",
              "    }\n",
              "\n",
              "    .dataframe thead th {\n",
              "        text-align: right;\n",
              "    }\n",
              "</style>\n",
              "<table border=\"1\" class=\"dataframe\">\n",
              "  <thead>\n",
              "    <tr style=\"text-align: right;\">\n",
              "      <th></th>\n",
              "      <th>A</th>\n",
              "      <th>B</th>\n",
              "    </tr>\n",
              "  </thead>\n",
              "  <tbody>\n",
              "    <tr>\n",
              "      <th>r2</th>\n",
              "      <td>78</td>\n",
              "      <td>67</td>\n",
              "    </tr>\n",
              "    <tr>\n",
              "      <th>r3</th>\n",
              "      <td>54</td>\n",
              "      <td>43</td>\n",
              "    </tr>\n",
              "  </tbody>\n",
              "</table>\n",
              "</div>\n",
              "    <div class=\"colab-df-buttons\">\n",
              "\n",
              "  <div class=\"colab-df-container\">\n",
              "    <button class=\"colab-df-convert\" onclick=\"convertToInteractive('df-432423e3-e4a2-481c-b0a1-9586668c8818')\"\n",
              "            title=\"Convert this dataframe to an interactive table.\"\n",
              "            style=\"display:none;\">\n",
              "\n",
              "  <svg xmlns=\"http://www.w3.org/2000/svg\" height=\"24px\" viewBox=\"0 -960 960 960\">\n",
              "    <path d=\"M120-120v-720h720v720H120Zm60-500h600v-160H180v160Zm220 220h160v-160H400v160Zm0 220h160v-160H400v160ZM180-400h160v-160H180v160Zm440 0h160v-160H620v160ZM180-180h160v-160H180v160Zm440 0h160v-160H620v160Z\"/>\n",
              "  </svg>\n",
              "    </button>\n",
              "\n",
              "  <style>\n",
              "    .colab-df-container {\n",
              "      display:flex;\n",
              "      gap: 12px;\n",
              "    }\n",
              "\n",
              "    .colab-df-convert {\n",
              "      background-color: #E8F0FE;\n",
              "      border: none;\n",
              "      border-radius: 50%;\n",
              "      cursor: pointer;\n",
              "      display: none;\n",
              "      fill: #1967D2;\n",
              "      height: 32px;\n",
              "      padding: 0 0 0 0;\n",
              "      width: 32px;\n",
              "    }\n",
              "\n",
              "    .colab-df-convert:hover {\n",
              "      background-color: #E2EBFA;\n",
              "      box-shadow: 0px 1px 2px rgba(60, 64, 67, 0.3), 0px 1px 3px 1px rgba(60, 64, 67, 0.15);\n",
              "      fill: #174EA6;\n",
              "    }\n",
              "\n",
              "    .colab-df-buttons div {\n",
              "      margin-bottom: 4px;\n",
              "    }\n",
              "\n",
              "    [theme=dark] .colab-df-convert {\n",
              "      background-color: #3B4455;\n",
              "      fill: #D2E3FC;\n",
              "    }\n",
              "\n",
              "    [theme=dark] .colab-df-convert:hover {\n",
              "      background-color: #434B5C;\n",
              "      box-shadow: 0px 1px 3px 1px rgba(0, 0, 0, 0.15);\n",
              "      filter: drop-shadow(0px 1px 2px rgba(0, 0, 0, 0.3));\n",
              "      fill: #FFFFFF;\n",
              "    }\n",
              "  </style>\n",
              "\n",
              "    <script>\n",
              "      const buttonEl =\n",
              "        document.querySelector('#df-432423e3-e4a2-481c-b0a1-9586668c8818 button.colab-df-convert');\n",
              "      buttonEl.style.display =\n",
              "        google.colab.kernel.accessAllowed ? 'block' : 'none';\n",
              "\n",
              "      async function convertToInteractive(key) {\n",
              "        const element = document.querySelector('#df-432423e3-e4a2-481c-b0a1-9586668c8818');\n",
              "        const dataTable =\n",
              "          await google.colab.kernel.invokeFunction('convertToInteractive',\n",
              "                                                    [key], {});\n",
              "        if (!dataTable) return;\n",
              "\n",
              "        const docLinkHtml = 'Like what you see? Visit the ' +\n",
              "          '<a target=\"_blank\" href=https://colab.research.google.com/notebooks/data_table.ipynb>data table notebook</a>'\n",
              "          + ' to learn more about interactive tables.';\n",
              "        element.innerHTML = '';\n",
              "        dataTable['output_type'] = 'display_data';\n",
              "        await google.colab.output.renderOutput(dataTable, element);\n",
              "        const docLink = document.createElement('div');\n",
              "        docLink.innerHTML = docLinkHtml;\n",
              "        element.appendChild(docLink);\n",
              "      }\n",
              "    </script>\n",
              "  </div>\n",
              "\n",
              "\n",
              "<div id=\"df-d08b23d6-058d-4776-aee1-6da6a7858631\">\n",
              "  <button class=\"colab-df-quickchart\" onclick=\"quickchart('df-d08b23d6-058d-4776-aee1-6da6a7858631')\"\n",
              "            title=\"Suggest charts\"\n",
              "            style=\"display:none;\">\n",
              "\n",
              "<svg xmlns=\"http://www.w3.org/2000/svg\" height=\"24px\"viewBox=\"0 0 24 24\"\n",
              "     width=\"24px\">\n",
              "    <g>\n",
              "        <path d=\"M19 3H5c-1.1 0-2 .9-2 2v14c0 1.1.9 2 2 2h14c1.1 0 2-.9 2-2V5c0-1.1-.9-2-2-2zM9 17H7v-7h2v7zm4 0h-2V7h2v10zm4 0h-2v-4h2v4z\"/>\n",
              "    </g>\n",
              "</svg>\n",
              "  </button>\n",
              "\n",
              "<style>\n",
              "  .colab-df-quickchart {\n",
              "      --bg-color: #E8F0FE;\n",
              "      --fill-color: #1967D2;\n",
              "      --hover-bg-color: #E2EBFA;\n",
              "      --hover-fill-color: #174EA6;\n",
              "      --disabled-fill-color: #AAA;\n",
              "      --disabled-bg-color: #DDD;\n",
              "  }\n",
              "\n",
              "  [theme=dark] .colab-df-quickchart {\n",
              "      --bg-color: #3B4455;\n",
              "      --fill-color: #D2E3FC;\n",
              "      --hover-bg-color: #434B5C;\n",
              "      --hover-fill-color: #FFFFFF;\n",
              "      --disabled-bg-color: #3B4455;\n",
              "      --disabled-fill-color: #666;\n",
              "  }\n",
              "\n",
              "  .colab-df-quickchart {\n",
              "    background-color: var(--bg-color);\n",
              "    border: none;\n",
              "    border-radius: 50%;\n",
              "    cursor: pointer;\n",
              "    display: none;\n",
              "    fill: var(--fill-color);\n",
              "    height: 32px;\n",
              "    padding: 0;\n",
              "    width: 32px;\n",
              "  }\n",
              "\n",
              "  .colab-df-quickchart:hover {\n",
              "    background-color: var(--hover-bg-color);\n",
              "    box-shadow: 0 1px 2px rgba(60, 64, 67, 0.3), 0 1px 3px 1px rgba(60, 64, 67, 0.15);\n",
              "    fill: var(--button-hover-fill-color);\n",
              "  }\n",
              "\n",
              "  .colab-df-quickchart-complete:disabled,\n",
              "  .colab-df-quickchart-complete:disabled:hover {\n",
              "    background-color: var(--disabled-bg-color);\n",
              "    fill: var(--disabled-fill-color);\n",
              "    box-shadow: none;\n",
              "  }\n",
              "\n",
              "  .colab-df-spinner {\n",
              "    border: 2px solid var(--fill-color);\n",
              "    border-color: transparent;\n",
              "    border-bottom-color: var(--fill-color);\n",
              "    animation:\n",
              "      spin 1s steps(1) infinite;\n",
              "  }\n",
              "\n",
              "  @keyframes spin {\n",
              "    0% {\n",
              "      border-color: transparent;\n",
              "      border-bottom-color: var(--fill-color);\n",
              "      border-left-color: var(--fill-color);\n",
              "    }\n",
              "    20% {\n",
              "      border-color: transparent;\n",
              "      border-left-color: var(--fill-color);\n",
              "      border-top-color: var(--fill-color);\n",
              "    }\n",
              "    30% {\n",
              "      border-color: transparent;\n",
              "      border-left-color: var(--fill-color);\n",
              "      border-top-color: var(--fill-color);\n",
              "      border-right-color: var(--fill-color);\n",
              "    }\n",
              "    40% {\n",
              "      border-color: transparent;\n",
              "      border-right-color: var(--fill-color);\n",
              "      border-top-color: var(--fill-color);\n",
              "    }\n",
              "    60% {\n",
              "      border-color: transparent;\n",
              "      border-right-color: var(--fill-color);\n",
              "    }\n",
              "    80% {\n",
              "      border-color: transparent;\n",
              "      border-right-color: var(--fill-color);\n",
              "      border-bottom-color: var(--fill-color);\n",
              "    }\n",
              "    90% {\n",
              "      border-color: transparent;\n",
              "      border-bottom-color: var(--fill-color);\n",
              "    }\n",
              "  }\n",
              "</style>\n",
              "\n",
              "  <script>\n",
              "    async function quickchart(key) {\n",
              "      const quickchartButtonEl =\n",
              "        document.querySelector('#' + key + ' button');\n",
              "      quickchartButtonEl.disabled = true;  // To prevent multiple clicks.\n",
              "      quickchartButtonEl.classList.add('colab-df-spinner');\n",
              "      try {\n",
              "        const charts = await google.colab.kernel.invokeFunction(\n",
              "            'suggestCharts', [key], {});\n",
              "      } catch (error) {\n",
              "        console.error('Error during call to suggestCharts:', error);\n",
              "      }\n",
              "      quickchartButtonEl.classList.remove('colab-df-spinner');\n",
              "      quickchartButtonEl.classList.add('colab-df-quickchart-complete');\n",
              "    }\n",
              "    (() => {\n",
              "      let quickchartButtonEl =\n",
              "        document.querySelector('#df-d08b23d6-058d-4776-aee1-6da6a7858631 button');\n",
              "      quickchartButtonEl.style.display =\n",
              "        google.colab.kernel.accessAllowed ? 'block' : 'none';\n",
              "    })();\n",
              "  </script>\n",
              "</div>\n",
              "\n",
              "    </div>\n",
              "  </div>\n"
            ],
            "application/vnd.google.colaboratory.intrinsic+json": {
              "type": "dataframe",
              "summary": "{\n  \"name\": \"df\",\n  \"rows\": 2,\n  \"fields\": [\n    {\n      \"column\": \"A\",\n      \"properties\": {\n        \"dtype\": \"number\",\n        \"std\": 16,\n        \"min\": 54,\n        \"max\": 78,\n        \"num_unique_values\": 2,\n        \"samples\": [\n          54,\n          78\n        ],\n        \"semantic_type\": \"\",\n        \"description\": \"\"\n      }\n    },\n    {\n      \"column\": \"B\",\n      \"properties\": {\n        \"dtype\": \"number\",\n        \"std\": 16,\n        \"min\": 43,\n        \"max\": 67,\n        \"num_unique_values\": 2,\n        \"samples\": [\n          43,\n          67\n        ],\n        \"semantic_type\": \"\",\n        \"description\": \"\"\n      }\n    }\n  ]\n}"
            }
          },
          "metadata": {},
          "execution_count": 41
        }
      ]
    },
    {
      "cell_type": "markdown",
      "source": [
        "20. Which of the following is/are true about loc in pandas:\n",
        "\n",
        "A. Add new rows in the data frames\n",
        "\n",
        "B. To change the values of a row to a particular value\n",
        "\n",
        "C. To extract values from the particular rows\n",
        "\n",
        "D. All of the above\n",
        "\n",
        "Answer:\"D\"\n"
      ],
      "metadata": {
        "id": "zapzSflgrFPH"
      }
    },
    {
      "source": [
        "import pandas as pd\n",
        "\n",
        "# Create a sample DataFrame\n",
        "df = pd.DataFrame({\n",
        "    'A': [1, 2, 3],\n",
        "    'B': [4, 5, 6]\n",
        "})\n",
        "\n",
        "# A. Add new rows in the data frames\n",
        "new_row = {'A': 4, 'B': 7}\n",
        "# Convert the new row dictionary to a DataFrame\n",
        "new_row_df = pd.DataFrame([new_row])\n",
        "# Concatenate the original DataFrame and the new row DataFrame\n",
        "df = pd.concat([df, new_row_df], ignore_index=True)\n",
        "\n",
        "# B. To change the values of a row to a particular value\n",
        "df.loc[0] = [10, 20]  # Changing the first row\n",
        "\n",
        "# C. To extract values from the particular rows\n",
        "extracted_values = df.loc[1]  # Extracting the second row\n",
        "\n",
        "print(df)\n",
        "print(extracted_values)"
      ],
      "cell_type": "code",
      "metadata": {
        "colab": {
          "base_uri": "https://localhost:8080/"
        },
        "id": "f9tWlo6iqz6k",
        "outputId": "d38103ec-b05f-46e2-84fe-e58a8300fd0f"
      },
      "execution_count": null,
      "outputs": [
        {
          "output_type": "stream",
          "name": "stdout",
          "text": [
            "    A   B\n",
            "0  10  20\n",
            "1   2   5\n",
            "2   3   6\n",
            "3   4   7\n",
            "A    2\n",
            "B    5\n",
            "Name: 1, dtype: int64\n"
          ]
        }
      ]
    },
    {
      "cell_type": "markdown",
      "source": [
        "21. Change the date column in the format (dd/mm/year) using the pandas to_datetime()\n",
        "Function.\n",
        "\n",
        "A. pd.to_datetime(data['date'], format='%Y-%m-%d', utc=False, dayfirst=True)\n",
        "\n",
        "B. pd.to_datetime(data['date'])\n",
        "\n",
        "C. pd.to_datetime(data['dates'], format='%Y-%m-%d', utc=False, dayfirst=True)\n",
        "\n",
        "D. pd.to_datetime(data['date'])\n",
        "\n",
        "Answer:\"A\"\n"
      ],
      "metadata": {
        "id": "k03f54W4r5RU"
      }
    },
    {
      "cell_type": "code",
      "source": [
        "import pandas as pd\n",
        "\n",
        "data = pd.DataFrame({\"date\": [\"2023-12-25\", \"2023-01-01\"]})\n",
        "data['date'] = pd.to_datetime(data['date'], format='%Y-%m-%d', utc=False, dayfirst=True)\n",
        "print(\"Formatted Dates:\\n\", data['date'])\n"
      ],
      "metadata": {
        "colab": {
          "base_uri": "https://localhost:8080/"
        },
        "id": "5e0mo_7ArjmV",
        "outputId": "92824706-475b-49b4-e39e-a5da34bf292e"
      },
      "execution_count": null,
      "outputs": [
        {
          "output_type": "stream",
          "name": "stdout",
          "text": [
            "Formatted Dates:\n",
            " 0   2023-12-25\n",
            "1   2023-01-01\n",
            "Name: date, dtype: datetime64[ns]\n"
          ]
        }
      ]
    },
    {
      "cell_type": "markdown",
      "source": [
        "22) Create a separate data frame that satisfies the conditions below.\n",
        "\n",
        "1. Houses built before 1980\n",
        "\n",
        "2. Have more than 2 bedrooms\n",
        "\n",
        "3. Have more than 2 floors.\n",
        "\n",
        "A. data.loc[(data[\"yr_built\"] > 1980) & (data['floors'] > 2) & (data['bedrooms'] > 2)]\n",
        "\n",
        "B. data.loc[(data[\"yr_built\"] < 1980) & (data['floors'] > 2) & (data['bedrooms'] > 2)]\n",
        "\n",
        "C. data.loc[(data[\"yr_built\"] | 1980) & (data['floors'] > 2) | (data['bedrooms'] > 2)]\n",
        "\n",
        "D. data.loc[(data[\"yr_built\"] < 1980) | (data['floors'] > 2) | (data['bedrooms'] < 2)]\n",
        "\n",
        "Answer:\"B\""
      ],
      "metadata": {
        "id": "u531J8LmtKrZ"
      }
    },
    {
      "cell_type": "code",
      "source": [
        "# 22. Create a separate DataFrame satisfying the given conditions\n",
        "data = pd.DataFrame({\"yr_built\": [1970, 1985], \"floors\": [3, 1], \"bedrooms\": [4, 2]})\n",
        "filtered_data = data.loc[(data[\"yr_built\"] < 1980) & (data['floors'] > 2) & (data['bedrooms'] > 2)]\n",
        "print(\"Filtered Data:\\n\", filtered_data)"
      ],
      "metadata": {
        "colab": {
          "base_uri": "https://localhost:8080/"
        },
        "id": "yj1HTVLYtKJO",
        "outputId": "4fec3645-4aad-4523-9137-ec735aa01a05"
      },
      "execution_count": null,
      "outputs": [
        {
          "output_type": "stream",
          "name": "stdout",
          "text": [
            "Filtered Data:\n",
            "    yr_built  floors  bedrooms\n",
            "0      1970       3         4\n"
          ]
        }
      ]
    },
    {
      "cell_type": "markdown",
      "source": [
        "23. For a given nested list, convert the same into a dataframe.\n",
        "\n",
        "sample_list = [['Carl', 22],\n",
        "['Martha', 25],\n",
        "['Calvin', 12],\n",
        "['Stuart', 15]\n",
        "]\n",
        "The resulting dataframe must contain the column names as ‘Name’, and ‘Age’ with the\n",
        "\n",
        "respective values from the sample_list.\n",
        "\n",
        "A. pd.DataFrame(sample_list)\n",
        "\n",
        "B. pd.DataFrame(sample_list, column_names=['Name', 'Age'])\n",
        "\n",
        "C. pd.DataFrame(sample_list, columns=['Name', 'Age'])\n",
        "\n",
        "D. pd.DataFrame(sample_list, column_name=['Name', 'Age'])\n",
        "\n",
        "Answer:\"C\""
      ],
      "metadata": {
        "id": "O8xotObqt8Cl"
      }
    },
    {
      "cell_type": "code",
      "source": [
        "\n",
        "sample_list = [['Carl', 22], ['Martha', 25], ['Calvin', 12], ['Stuart', 15]]\n",
        "df_list = pd.DataFrame(sample_list, columns=['Name', 'Age'])\n",
        "print(\"DataFrame from List:\\n\", df_list)\n"
      ],
      "metadata": {
        "colab": {
          "base_uri": "https://localhost:8080/"
        },
        "id": "JczfqvdKuGRh",
        "outputId": "f045191d-8c0b-4387-84f3-4247fc00ed71"
      },
      "execution_count": null,
      "outputs": [
        {
          "output_type": "stream",
          "name": "stdout",
          "text": [
            "DataFrame from List:\n",
            "      Name  Age\n",
            "0    Carl   22\n",
            "1  Martha   25\n",
            "2  Calvin   12\n",
            "3  Stuart   15\n"
          ]
        }
      ]
    },
    {
      "cell_type": "markdown",
      "source": [
        "24. For a given dictionary, convert the same into a dataframe.\n",
        "\n",
        "sample_dict = {'Cristiano': ['Ronaldo','Man U', 801],\n",
        "'Lionel': ['Messi','PSG', 758],\n",
        "'Luis': ['Suarez','Atletico Madrid', 509],\n",
        "'Robert': ['Lewandowski','Bayern Munich', 527],\n",
        "'Zlatan': ['Ibrahimovic','AC Milan',553]\n",
        "\n",
        "}\n",
        "\n",
        "A. df1 = pd.Dataframe(sample_dict)\n",
        "df1 = df1.transpose()\n",
        "df1.reset_index(inplace = True)\n",
        "df1.columns = ['First Name','Last Name', 'Club', 'Goals']\n",
        "\n",
        "B. df1 = pd.DataFrame(sample_dict)\n",
        "df1 = df1.transpose()\n",
        "df1.reset_index(inplace = True)\n",
        "df1.columns = ['First Name','Last Name', 'Club', 'Goals']\n",
        "\n",
        "C. df1 = pd.DataFrame(sample_dict)\n",
        "df1.reset_index(inplace = True)\n",
        "df1.columns = ['First Name','Last Name', 'Club', 'Goals']\n",
        "\n",
        "D. df1 = pd.DataFrame(sample_dict)\n",
        "df1 = df1.transpose()\n",
        "df1.columns = ['First Name','Last Name', 'Club', 'Goals']\n",
        "\n",
        "Answer:\"B\""
      ],
      "metadata": {
        "id": "jLcdPxw5uZVC"
      }
    },
    {
      "cell_type": "code",
      "source": [
        "\n",
        "sample_dict = {\n",
        "    'Cristiano': ['Ronaldo','Man U', 801],\n",
        "    'Lionel': ['Messi','PSG', 758],\n",
        "    'Luis': ['Suarez','Atletico Madrid', 509],\n",
        "    'Robert': ['Lewandowski','Bayern Munich', 527],\n",
        "    'Zlatan': ['Ibrahimovic','AC Milan',553]\n",
        "}\n",
        "df_dict = pd.DataFrame(sample_dict).transpose()\n",
        "df_dict.reset_index(inplace=True)\n",
        "df_dict.columns = ['First Name', 'Last Name', 'Club', 'Goals']\n",
        "print(\"DataFrame from Dictionary:\\n\", df_dict)"
      ],
      "metadata": {
        "colab": {
          "base_uri": "https://localhost:8080/"
        },
        "id": "AqMwquTJuZFe",
        "outputId": "0e981b74-a28e-4789-f74c-75b00c183f62"
      },
      "execution_count": null,
      "outputs": [
        {
          "output_type": "stream",
          "name": "stdout",
          "text": [
            "DataFrame from Dictionary:\n",
            "   First Name    Last Name             Club Goals\n",
            "0  Cristiano      Ronaldo            Man U   801\n",
            "1     Lionel        Messi              PSG   758\n",
            "2       Luis       Suarez  Atletico Madrid   509\n",
            "3     Robert  Lewandowski    Bayern Munich   527\n",
            "4     Zlatan  Ibrahimovic         AC Milan   553\n"
          ]
        }
      ]
    },
    {
      "cell_type": "markdown",
      "source": [
        "25. For a given tuple, convert the same into a dataframe.\n",
        "\n",
        "sample_tuple = ([1, 'one', 3],\n",
        "[2, 'two', 3],\n",
        "[3, 'Three', 5],\n",
        "[4, 'Four', 4],\n",
        "[5, 'Five', 4])\n",
        "\n",
        "A. pd.Dataframe(sample_tuple, columns=['Number', 'Number_text', 'txtlen'])\n",
        "\n",
        "B. pd.DataFrame(sample_tuple, columns=['Number', 'Number_text', 'txtlen'])\n",
        "\n",
        "C. pd.dataframe(sample_tuple, columns=['Number', 'Number_text', 'txtlen'])\n",
        "\n",
        "D. pd.DataFrame(sample_tup, columns=['Number', 'Number_text', 'txtlen'])\n",
        "\n",
        "Answer:\"B\""
      ],
      "metadata": {
        "id": "K1nEw4tB2l4M"
      }
    },
    {
      "cell_type": "code",
      "source": [
        "sample_tuple = ([1, 'one', 3], [2, 'two', 3], [3, 'Three', 5], [4, 'Four', 4], [5, 'Five', 4])\n",
        "df_tuple = pd.DataFrame(sample_tuple, columns=['Number', 'Number_text', 'txtlen'])\n",
        "print(\"DataFrame from Tuple:\\n\", df_tuple)"
      ],
      "metadata": {
        "colab": {
          "base_uri": "https://localhost:8080/"
        },
        "id": "_zM99c9U2sYY",
        "outputId": "ed62b6b3-eaab-4dae-fa65-712e445ae8d2"
      },
      "execution_count": null,
      "outputs": [
        {
          "output_type": "stream",
          "name": "stdout",
          "text": [
            "DataFrame from Tuple:\n",
            "    Number Number_text  txtlen\n",
            "0       1         one       3\n",
            "1       2         two       3\n",
            "2       3       Three       5\n",
            "3       4        Four       4\n",
            "4       5        Five       4\n"
          ]
        }
      ]
    },
    {
      "cell_type": "markdown",
      "source": [
        "26. Create a separate dataframe that contains houses ordered in ascending or descending\n",
        "order of the prices of each house.\n",
        "\n",
        "A. ascending = housing.sort_values('price', ascending=False)\n",
        "descending = housing.sort_values('price', ascending=False)\n",
        "\n",
        "B. ascending = housing.sort_values('price', ascending=True)\n",
        "descending = housing.sort_values('price', ascending=False)\n",
        "\n",
        "C. ascending = housing.sort_values('price', ascending=False)\n",
        "descending = housing.sort_values('price', ascending=True)\n",
        "\n",
        "D. ascending = housing.sort_values('price', ascending=True)\n",
        "descending = housing.sort_values('price', ascending=True)\n",
        "\n",
        "Answer:\"B\""
      ],
      "metadata": {
        "id": "1myDgzCv2_Pr"
      }
    },
    {
      "cell_type": "code",
      "source": [
        "\n",
        "data = pd.DataFrame({\"price\": [300000, 150000, 450000]})\n",
        "ascending = data.sort_values('price', ascending=True)\n",
        "descending = data.sort_values('price', ascending=False)\n",
        "print(\"Ascending Order:\\n\", ascending)\n",
        "print(\"Descending Order:\\n\", descending)"
      ],
      "metadata": {
        "colab": {
          "base_uri": "https://localhost:8080/"
        },
        "id": "vemX8l152_dm",
        "outputId": "2e241281-e714-4e67-f6b1-d7da44f26b70"
      },
      "execution_count": null,
      "outputs": [
        {
          "output_type": "stream",
          "name": "stdout",
          "text": [
            "Ascending Order:\n",
            "     price\n",
            "1  150000\n",
            "0  300000\n",
            "2  450000\n",
            "Descending Order:\n",
            "     price\n",
            "2  450000\n",
            "0  300000\n",
            "1  150000\n"
          ]
        }
      ]
    },
    {
      "cell_type": "markdown",
      "source": [
        "27. Calculate the mean and standard deviation of all the numerical values in the dataset. For\n",
        "example - the mean for the bedrooms column is 3.370 and the standard deviation is 0.930.\n",
        "\n",
        "A. housing.describe()\n",
        "\n",
        "B. housing.info()\n",
        "\n",
        "C. housing.corr()\n",
        "\n",
        "D. housing.std()\n",
        "\n",
        "Answer:\"A\""
      ],
      "metadata": {
        "id": "bcwkv_bT3Ro8"
      }
    },
    {
      "source": [
        "import pandas as pd\n",
        "\n",
        "# Assuming your dataset is loaded into a pandas DataFrame called 'housing'\n",
        "numerical_stats = housing.describe()\n",
        "\n",
        "# Print the summary statistics\n",
        "print(numerical_stats)"
      ],
      "cell_type": "code",
      "metadata": {
        "colab": {
          "base_uri": "https://localhost:8080/"
        },
        "id": "foakPmuh5-pI",
        "outputId": "397a927b-d519-4be2-91d6-824b96aa6bdc"
      },
      "execution_count": null,
      "outputs": [
        {
          "output_type": "stream",
          "name": "stdout",
          "text": [
            "                 id         price      bedrooms     bathrooms   sqft_living  \\\n",
            "count  2.161300e+04  2.161300e+04  21613.000000  21613.000000  21613.000000   \n",
            "mean   4.580302e+09  5.400881e+05      3.370842      2.114757   2079.899736   \n",
            "std    2.876566e+09  3.671272e+05      0.930062      0.770163    918.440897   \n",
            "min    1.000102e+06  7.500000e+04      0.000000      0.000000    290.000000   \n",
            "25%    2.123049e+09  3.219500e+05      3.000000      1.750000   1427.000000   \n",
            "50%    3.904930e+09  4.500000e+05      3.000000      2.250000   1910.000000   \n",
            "75%    7.308900e+09  6.450000e+05      4.000000      2.500000   2550.000000   \n",
            "max    9.900000e+09  7.700000e+06     33.000000      8.000000  13540.000000   \n",
            "\n",
            "           sqft_lot        floors    waterfront          view     condition  \\\n",
            "count  2.161300e+04  21613.000000  21613.000000  21613.000000  21613.000000   \n",
            "mean   1.510697e+04      1.494309      0.007542      0.234303      3.409430   \n",
            "std    4.142051e+04      0.539989      0.086517      0.766318      0.650743   \n",
            "min    5.200000e+02      1.000000      0.000000      0.000000      1.000000   \n",
            "25%    5.040000e+03      1.000000      0.000000      0.000000      3.000000   \n",
            "50%    7.618000e+03      1.500000      0.000000      0.000000      3.000000   \n",
            "75%    1.068800e+04      2.000000      0.000000      0.000000      4.000000   \n",
            "max    1.651359e+06      3.500000      1.000000      4.000000      5.000000   \n",
            "\n",
            "              grade    sqft_above  sqft_basement      yr_built  yr_renovated  \\\n",
            "count  21613.000000  21613.000000   21613.000000  21613.000000  21613.000000   \n",
            "mean      11.656318   1788.390691     291.509045   1971.005136     84.402258   \n",
            "std        1.177578    828.090978     442.575043     29.373411    401.679240   \n",
            "min        3.000000    290.000000       0.000000   1900.000000      0.000000   \n",
            "25%       11.000000   1190.000000       0.000000   1951.000000      0.000000   \n",
            "50%       11.000000   1560.000000       0.000000   1975.000000      0.000000   \n",
            "75%       12.000000   2210.000000     560.000000   1997.000000      0.000000   \n",
            "max       17.000000   9410.000000    4820.000000   2015.000000   2015.000000   \n",
            "\n",
            "            zipcode           lat          long  sqft_living15     sqft_lot15  \n",
            "count  21613.000000  21613.000000  21613.000000   21613.000000   21613.000000  \n",
            "mean   98077.939805     47.560053   -122.213896    1986.552492   12768.455652  \n",
            "std       53.505026      0.138564      0.140828     685.391304   27304.179631  \n",
            "min    98001.000000     47.155900   -122.519000     399.000000     651.000000  \n",
            "25%    98033.000000     47.471000   -122.328000    1490.000000    5100.000000  \n",
            "50%    98065.000000     47.571800   -122.230000    1840.000000    7620.000000  \n",
            "75%    98118.000000     47.678000   -122.125000    2360.000000   10083.000000  \n",
            "max    98199.000000     47.777600   -121.315000    6210.000000  871200.000000  \n"
          ]
        }
      ]
    },
    {
      "cell_type": "markdown",
      "source": [
        "28) Perform the following operations on the pandas dataframe.\n",
        "\n",
        "1. Get the data starting from the rows 25 to 35.\n",
        "\n",
        "2. Get the price of the houses located at the longitude--122.045 latitude- 47.6168.\n",
        "\n",
        "A. data[25:35], data.loc[(housing[\"lat\"] == 47.6168) | (data[\"long\"] == -122.045)]\n",
        "\n",
        "\n",
        "B. data[25:35], data.loc[(housing[\"lat\"] == 48.6168) & (data[\"long\"] == -122.045)]\n",
        "\n",
        "C. data[25:36], data.loc[(housing[\"lat\"] == 47.6168) & (data[\"long\"] == -122.045)]\n",
        "\n",
        "D. data[24:36], data.loc[(housing[\"lat\"] == 47.6168) & (data[\"long\"] == -122.045)]\n",
        "\n",
        "Answer:\"C\""
      ],
      "metadata": {
        "id": "tEZYXWE63tv0"
      }
    },
    {
      "cell_type": "code",
      "source": [
        "\n",
        "data = pd.DataFrame({\"lat\": [47.6168, 48.6168], \"long\": [-122.045, -122.045], \"price\": [500000, 300000]})\n",
        "filtered_rows = data.iloc[24:36]\n",
        "filtered_lat_long = data.loc[(data[\"lat\"] == 47.6168) & (data[\"long\"] == -122.045)]\n",
        "print(\"Filtered Rows:\\n\", filtered_rows)\n",
        "print(\"Filtered by Lat/Long:\\n\", filtered_lat_long)"
      ],
      "metadata": {
        "colab": {
          "base_uri": "https://localhost:8080/"
        },
        "id": "HzKKTl7V3uFq",
        "outputId": "70f821c6-2283-478a-e320-fb089a00d2c6"
      },
      "execution_count": null,
      "outputs": [
        {
          "output_type": "stream",
          "name": "stdout",
          "text": [
            "Filtered Rows:\n",
            " Empty DataFrame\n",
            "Columns: [lat, long, price]\n",
            "Index: []\n",
            "Filtered by Lat/Long:\n",
            "        lat     long   price\n",
            "0  47.6168 -122.045  500000\n"
          ]
        }
      ]
    },
    {
      "cell_type": "markdown",
      "source": [
        "29. Create a new column with the floor area(sqft_living, sqft_lot, sqft_above, sqft_basement, all\n",
        "combined in one column).\n",
        "\n",
        "A. data['Floor Area'] = data['sqft_living'], data['sqft_lot'], data['sqft_basement'],\n",
        "data['sqft_above']\n",
        "\n",
        "B. df['Floor Area'] = data['sqft_living'] + data['sqft_lot'] + data['sqft_basement'] +\n",
        "data['sqft_above']\n",
        "\n",
        "C. data['Floor Area'] = data['sqft_living', 'sqft_lot','sqft_basement','sqft_above']\n",
        "\n",
        "D. data['Floor Area'] = data['sqft_liv', 'sqft_lot','sqft_base','sqft_above']\n",
        "\n",
        "Answer:\"B\""
      ],
      "metadata": {
        "id": "MId_HYyO4Cgj"
      }
    },
    {
      "cell_type": "code",
      "source": [
        "\n",
        "data = pd.DataFrame({\"sqft_living\": [1500, 2000], \"sqft_lot\": [5000, 6000], \"sqft_basement\": [500, 0], \"sqft_above\": [1000, 2000]})\n",
        "data['Floor Area'] = data['sqft_living'] + data['sqft_lot'] + data['sqft_basement'] + data['sqft_above']\n",
        "print(\"Data with Floor Area:\\n\", data)"
      ],
      "metadata": {
        "colab": {
          "base_uri": "https://localhost:8080/"
        },
        "id": "a3IMqYz24COj",
        "outputId": "d88a623b-9892-4c34-c8d1-ce989814ed0f"
      },
      "execution_count": null,
      "outputs": [
        {
          "output_type": "stream",
          "name": "stdout",
          "text": [
            "Data with Floor Area:\n",
            "    sqft_living  sqft_lot  sqft_basement  sqft_above  Floor Area\n",
            "0         1500      5000            500        1000        8000\n",
            "1         2000      6000              0        2000       10000\n"
          ]
        }
      ]
    },
    {
      "cell_type": "markdown",
      "source": [
        "30) Perform the following operations on the dataframes given below.\n",
        "A = pd.DataFrame([['Carl', 22],['Martha', 25],['Calvin', 12],['Stuart', 15]], columns=[‘Name’, ‘Age’])\n",
        "B = pd.DataFrame([['Melvin', 25],['Martha', 34],['Lewis', 32],['Leo', 25]], columns=[‘Name’, ‘Age’])\n",
        "\n",
        "1. Left Outer Join\n",
        "\n",
        "2. Outer Join\n",
        "\n",
        "3. Inner Join\n",
        "\n",
        "4. Right Outer Join\n",
        "\n",
        "A. inner = pd.merge(A, B, on='Age', how='inner_join')\n",
        "outer = pd.merge(A, B, on='Age', how='outer_join')\n",
        "left_outer = pd.merge(A, B, on='Age', how='left_join')\n",
        "right_outer = pd.merge(A, B, on='Age', how='right_join')\n",
        "\n",
        "B. inner = pd.merge(A, B, on='Age', how='inner')\n",
        "outer = pd.merge(A, B, on='Age', how='outer')\n",
        "left_outer = pd.merge(A, B, on='Age', how='left_outer')\n",
        "right_outer = pd.merge(A, B, on='Age', how='right_outer')\n",
        "\n",
        "C. inner = pd.merge(A, B, on='Age', how='inner')\n",
        "outer = pd.merge(A, B, on='Age', how='outer')\n",
        "left_outer = pd.merge(A, B, on='Age', how='left')\n",
        "right_outer = pd.merge(A, B, on='Age', how='right')\n",
        "\n",
        "D. inner = pd.merge(A, B, on='Age', how='inner')\n",
        "outer = pd.merge(A, B, on='Age', how='outer')\n",
        "left_outer = pd.merge(A, B, on='Age', how='outer_left')\n",
        "right_outer = pd.merge(A, B, on='Age', how='outer_right')\n",
        "\n",
        "Answer:\"C\""
      ],
      "metadata": {
        "id": "ZYxLAPHZ4hHr"
      }
    },
    {
      "cell_type": "code",
      "source": [
        "\n",
        "A = pd.DataFrame([[\"Carl\", 22], [\"Martha\", 25], [\"Calvin\", 12], [\"Stuart\", 15]], columns=[\"Name\", \"Age\"])\n",
        "B = pd.DataFrame([[\"Melvin\", 25], [\"Martha\", 34], [\"Lewis\", 32], [\"Leo\", 25]], columns=[\"Name\", \"Age\"])\n",
        "inner = pd.merge(A, B, on='Age', how='inner')\n",
        "outer = pd.merge(A, B, on='Age', how='outer')\n",
        "left_outer = pd.merge(A, B, on='Age', how='left')\n",
        "right_outer = pd.merge(A, B, on='Age', how='right')\n",
        "print(\"Inner Join:\\n\", inner)\n",
        "print(\"Outer Join:\\n\", outer)\n",
        "print(\"Left Outer Join:\\n\", left_outer)\n",
        "print(\"Right Outer Join:\\n\", right_outer)"
      ],
      "metadata": {
        "colab": {
          "base_uri": "https://localhost:8080/"
        },
        "id": "TGm_5uV14d2v",
        "outputId": "9d36bf1c-8fff-4317-eb54-7a6a8122124d"
      },
      "execution_count": null,
      "outputs": [
        {
          "output_type": "stream",
          "name": "stdout",
          "text": [
            "Inner Join:\n",
            "    Name_x  Age  Name_y\n",
            "0  Martha   25  Melvin\n",
            "1  Martha   25     Leo\n",
            "Outer Join:\n",
            "    Name_x  Age  Name_y\n",
            "0  Calvin   12     NaN\n",
            "1  Stuart   15     NaN\n",
            "2    Carl   22     NaN\n",
            "3  Martha   25  Melvin\n",
            "4  Martha   25     Leo\n",
            "5     NaN   32   Lewis\n",
            "6     NaN   34  Martha\n",
            "Left Outer Join:\n",
            "    Name_x  Age  Name_y\n",
            "0    Carl   22     NaN\n",
            "1  Martha   25  Melvin\n",
            "2  Martha   25     Leo\n",
            "3  Calvin   12     NaN\n",
            "4  Stuart   15     NaN\n",
            "Right Outer Join:\n",
            "    Name_x  Age  Name_y\n",
            "0  Martha   25  Melvin\n",
            "1     NaN   34  Martha\n",
            "2     NaN   32   Lewis\n",
            "3  Martha   25     Leo\n"
          ]
        }
      ]
    },
    {
      "cell_type": "markdown",
      "source": [
        "31. What will be the correlation between the columns sqft_living and sqft_above?\n",
        "\n",
        "A. 0.702035\n",
        "\n",
        "B. 0.754665\n",
        "\n",
        "C. 0.876597\n",
        "\n",
        "D. 0.303093\n",
        "\n",
        "Answer:\"C\""
      ],
      "metadata": {
        "id": "T96-HuPw43X8"
      }
    },
    {
      "source": [
        "import pandas as pd\n",
        "\n",
        "# Assuming your dataset is loaded into a pandas DataFrame called 'housing'\n",
        "correlation = housing[['sqft_living', 'sqft_above']].corr().loc['sqft_living', 'sqft_above']\n",
        "print(f\"The correlation between sqft_living and sqft_above is: {correlation}\")"
      ],
      "cell_type": "code",
      "metadata": {
        "colab": {
          "base_uri": "https://localhost:8080/"
        },
        "id": "zEpmFeNp5NJ1",
        "outputId": "8dba1a32-32bf-4c27-9bde-b13e19587554"
      },
      "execution_count": null,
      "outputs": [
        {
          "output_type": "stream",
          "name": "stdout",
          "text": [
            "The correlation between sqft_living and sqft_above is: 0.8765965986813202\n"
          ]
        }
      ]
    },
    {
      "cell_type": "markdown",
      "source": [
        "32. If the correlation between the columns bathrooms and sqft_living is 0.754665, what all\n",
        "interpretations can be made about the two columns?\n",
        "\n",
        "A. A positive correlation between the two columns\n",
        "\n",
        "B. The columns show perfect correlation.\n",
        "\n",
        "C. A strong negative correlation between the two columns\n",
        "\n",
        "D. No correlation between the two columns.\n",
        "\n",
        "Answer:\"A\""
      ],
      "metadata": {
        "id": "alukKMUk5eZt"
      }
    },
    {
      "source": [
        "import pandas as pd\n",
        "\n",
        "# Assuming your dataset is loaded into a pandas DataFrame called 'housing'\n",
        "correlation = housing[['bathrooms', 'sqft_living']].corr().loc['bathrooms', 'sqft_living']\n",
        "print(f\"The correlation between bathrooms and sqft_living is: {correlation}\")"
      ],
      "cell_type": "code",
      "metadata": {
        "colab": {
          "base_uri": "https://localhost:8080/"
        },
        "id": "civMj-Jh5pgE",
        "outputId": "ca37bf29-a51d-4e22-856b-1ed5f78d5351"
      },
      "execution_count": null,
      "outputs": [
        {
          "output_type": "stream",
          "name": "stdout",
          "text": [
            "The correlation between bathrooms and sqft_living is: 0.7546652789673752\n"
          ]
        }
      ]
    }
  ]
}